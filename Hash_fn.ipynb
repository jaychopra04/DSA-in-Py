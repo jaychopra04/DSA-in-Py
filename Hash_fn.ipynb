{
 "cells": [
  {
   "cell_type": "code",
   "execution_count": 126,
   "id": "2ddedd51",
   "metadata": {},
   "outputs": [],
   "source": [
    "A={\"HI\": 4,\n",
    "   \"FI\": 7,\n",
    "   \"NI\": 9   \n",
    "}\n",
    "\n",
    "for i in A:\n",
    "    if i[0] == 'FI':\n",
    "        print(i[1])\n",
    "        "
   ]
  },
  {
   "cell_type": "code",
   "execution_count": null,
   "id": "52885c01",
   "metadata": {},
   "outputs": [],
   "source": []
  },
  {
   "cell_type": "code",
   "execution_count": 127,
   "id": "a457a3a8",
   "metadata": {},
   "outputs": [],
   "source": [
    "def hashfn(key):\n",
    "    sum=0\n",
    "    for i in key:\n",
    "        sum += ord(i)\n",
    "    return sum % 10"
   ]
  },
  {
   "cell_type": "code",
   "execution_count": 130,
   "id": "d928e642",
   "metadata": {},
   "outputs": [
    {
     "data": {
      "text/plain": [
       "3"
      ]
     },
     "execution_count": 130,
     "metadata": {},
     "output_type": "execute_result"
    }
   ],
   "source": [
    "hashfn('FI')\n"
   ]
  },
  {
   "cell_type": "code",
   "execution_count": 113,
   "id": "2242b688",
   "metadata": {},
   "outputs": [],
   "source": [
    "class hashtable:\n",
    "    def __init__(self):\n",
    "        self.MAX=10\n",
    "        self.arr = [None]*self.MAX\n",
    "        \n",
    "    def hashfn(self, key):\n",
    "        sum=0\n",
    "        for i in key:\n",
    "            sum += ord(i)\n",
    "        return sum % self.MAX\n",
    "    \n",
    "    def __setitem__(self, key, val):\n",
    "        h = self.hashfn(key)\n",
    "        self.arr[h] = val\n",
    "        \n",
    "    def __delitem__(self, key):\n",
    "        h = self.hashfn(key)\n",
    "        self.arr[h] = None\n",
    "            \n",
    "        \n",
    "\n"
   ]
  },
  {
   "cell_type": "code",
   "execution_count": 120,
   "id": "eb827941",
   "metadata": {},
   "outputs": [
    {
     "data": {
      "text/plain": [
       "[None, None, None, None, 500, None, None, None, None, 400]"
      ]
     },
     "execution_count": 120,
     "metadata": {},
     "output_type": "execute_result"
    }
   ],
   "source": [
    "o1 = hashtable()\n",
    "o1['march 1'] = 500\n",
    "o1['march 6'] = 400\n",
    "\n",
    "o1.arr"
   ]
  },
  {
   "cell_type": "code",
   "execution_count": 121,
   "id": "e36716bc",
   "metadata": {},
   "outputs": [],
   "source": [
    "del o1['March1']"
   ]
  },
  {
   "cell_type": "code",
   "execution_count": 122,
   "id": "43d90654",
   "metadata": {},
   "outputs": [
    {
     "data": {
      "text/plain": [
       "[None, None, None, None, 500, None, None, None, None, 400]"
      ]
     },
     "execution_count": 122,
     "metadata": {},
     "output_type": "execute_result"
    }
   ],
   "source": [
    "o1.arr"
   ]
  },
  {
   "cell_type": "code",
   "execution_count": 119,
   "id": "8b463db1",
   "metadata": {},
   "outputs": [
    {
     "data": {
      "text/plain": [
       "9"
      ]
     },
     "execution_count": 119,
     "metadata": {},
     "output_type": "execute_result"
    }
   ],
   "source": [
    "hashfn('march 17')"
   ]
  },
  {
   "cell_type": "code",
   "execution_count": null,
   "id": "1ec2294b",
   "metadata": {},
   "outputs": [],
   "source": []
  }
 ],
 "metadata": {
  "kernelspec": {
   "display_name": "Python 3 (ipykernel)",
   "language": "python",
   "name": "python3"
  },
  "language_info": {
   "codemirror_mode": {
    "name": "ipython",
    "version": 3
   },
   "file_extension": ".py",
   "mimetype": "text/x-python",
   "name": "python",
   "nbconvert_exporter": "python",
   "pygments_lexer": "ipython3",
   "version": "3.9.7"
  }
 },
 "nbformat": 4,
 "nbformat_minor": 5
}
