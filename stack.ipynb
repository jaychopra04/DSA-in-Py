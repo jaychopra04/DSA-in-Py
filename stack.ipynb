{
 "cells": [
  {
   "cell_type": "code",
   "execution_count": 2,
   "id": "85561f41",
   "metadata": {},
   "outputs": [],
   "source": [
    "from collections import deque\n"
   ]
  },
  {
   "cell_type": "code",
   "execution_count": 72,
   "id": "93dbd2d8",
   "metadata": {},
   "outputs": [],
   "source": [
    "class stack:\n",
    "    def __init__(self):\n",
    "        self.col = deque()\n",
    "    def push(self, val):\n",
    "        self.col.append(val)\n",
    "    \n",
    "    def pop(self):\n",
    "        return self.col.pop()\n",
    "    \n",
    "    def peek(self):\n",
    "        return self.col[-1]\n",
    "    \n",
    "    def size(self):\n",
    "        return len(self.col)\n",
    "    \n",
    "    def isempty(self):\n",
    "        return len(self.col)==0           \n",
    "    "
   ]
  },
  {
   "cell_type": "code",
   "execution_count": 73,
   "id": "43d30d14",
   "metadata": {},
   "outputs": [],
   "source": [
    "a = stack()\n",
    "a.push(32)"
   ]
  },
  {
   "cell_type": "code",
   "execution_count": 74,
   "id": "4e1a1edd",
   "metadata": {},
   "outputs": [
    {
     "data": {
      "text/plain": [
       "False"
      ]
     },
     "execution_count": 74,
     "metadata": {},
     "output_type": "execute_result"
    }
   ],
   "source": [
    "a.isempty()"
   ]
  },
  {
   "cell_type": "code",
   "execution_count": 75,
   "id": "f113a7d7",
   "metadata": {},
   "outputs": [
    {
     "data": {
      "text/plain": [
       "32"
      ]
     },
     "execution_count": 75,
     "metadata": {},
     "output_type": "execute_result"
    }
   ],
   "source": [
    "a.pop()"
   ]
  },
  {
   "cell_type": "code",
   "execution_count": 76,
   "id": "81dbb9c9",
   "metadata": {},
   "outputs": [
    {
     "data": {
      "text/plain": [
       "True"
      ]
     },
     "execution_count": 76,
     "metadata": {},
     "output_type": "execute_result"
    }
   ],
   "source": [
    "a.isempty()"
   ]
  },
  {
   "cell_type": "code",
   "execution_count": 77,
   "id": "381e9048",
   "metadata": {},
   "outputs": [],
   "source": [
    "a.push(23)\n"
   ]
  },
  {
   "cell_type": "code",
   "execution_count": 78,
   "id": "517a2d54",
   "metadata": {},
   "outputs": [
    {
     "data": {
      "text/plain": [
       "23"
      ]
     },
     "execution_count": 78,
     "metadata": {},
     "output_type": "execute_result"
    }
   ],
   "source": [
    "a.peek()"
   ]
  },
  {
   "cell_type": "code",
   "execution_count": 79,
   "id": "8d43524f",
   "metadata": {},
   "outputs": [],
   "source": [
    "a.push(34)\n",
    "a.push(66)"
   ]
  },
  {
   "cell_type": "code",
   "execution_count": 80,
   "id": "91aef8a2",
   "metadata": {},
   "outputs": [
    {
     "data": {
      "text/plain": [
       "66"
      ]
     },
     "execution_count": 80,
     "metadata": {},
     "output_type": "execute_result"
    }
   ],
   "source": [
    "a.peek()"
   ]
  },
  {
   "cell_type": "code",
   "execution_count": 81,
   "id": "5dd74212",
   "metadata": {},
   "outputs": [
    {
     "data": {
      "text/plain": [
       "66"
      ]
     },
     "execution_count": 81,
     "metadata": {},
     "output_type": "execute_result"
    }
   ],
   "source": [
    "a.pop()"
   ]
  },
  {
   "cell_type": "code",
   "execution_count": 82,
   "id": "a1fd97f4",
   "metadata": {},
   "outputs": [
    {
     "data": {
      "text/plain": [
       "34"
      ]
     },
     "execution_count": 82,
     "metadata": {},
     "output_type": "execute_result"
    }
   ],
   "source": [
    "a.peek()"
   ]
  },
  {
   "cell_type": "code",
   "execution_count": null,
   "id": "40de3672",
   "metadata": {},
   "outputs": [],
   "source": []
  }
 ],
 "metadata": {
  "kernelspec": {
   "display_name": "Python 3 (ipykernel)",
   "language": "python",
   "name": "python3"
  },
  "language_info": {
   "codemirror_mode": {
    "name": "ipython",
    "version": 3
   },
   "file_extension": ".py",
   "mimetype": "text/x-python",
   "name": "python",
   "nbconvert_exporter": "python",
   "pygments_lexer": "ipython3",
   "version": "3.9.7"
  }
 },
 "nbformat": 4,
 "nbformat_minor": 5
}
